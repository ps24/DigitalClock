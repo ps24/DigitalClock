{
  "nbformat": 4,
  "nbformat_minor": 0,
  "metadata": {
    "colab": {
      "name": "DataCleanUp.ipynb",
      "version": "0.3.2",
      "provenance": [],
      "include_colab_link": true
    },
    "kernelspec": {
      "name": "python3",
      "display_name": "Python 3"
    }
  },
  "cells": [
    {
      "cell_type": "markdown",
      "metadata": {
        "id": "view-in-github",
        "colab_type": "text"
      },
      "source": [
        "<a href=\"https://colab.research.google.com/github/ps24/DigitalClock/blob/master/DataCleanUp.ipynb\" target=\"_parent\"><img src=\"https://colab.research.google.com/assets/colab-badge.svg\" alt=\"Open In Colab\"/></a>"
      ]
    },
    {
      "metadata": {
        "id": "JuNdN9sMIJza",
        "colab_type": "text"
      },
      "cell_type": "markdown",
      "source": [
        "#  About Data Clean Up\n",
        "Data clean up will consist of the following operations:\n",
        "\n",
        "1: Remove series with 6 mil+ missing data --> these series will be removed from the dataframe:\n",
        "* Meter Id\n",
        "* Marked Time\n",
        "* Plate Expiry Date\n",
        "* VIN\n",
        "\n",
        "2: Keep the following data:\n",
        "* Issue Date\n",
        "* Issue time\n",
        "* RP State Plate\n",
        "* Location\n",
        "* Violation Description\n",
        "\n",
        "3: Clean up 'Location' series\n",
        "\n",
        "* Remove rows with NaN (765 rows)\n",
        "* Clean up 'Location' fomat (remove nonalpha numeric characters such as '! ? *')\n",
        "\n",
        "4: Add series: create 'Issue_hour' column from 'Issue time' column to list only hour\n",
        "\n",
        "5: Add series: create 'Issue_Month', 'Issue_Year', 'Issue_Weekday' column from 'Issue Date' column\n",
        "\n",
        "6: Create new dataframe\n",
        "\n",
        "7: Run Geocode API\n",
        "* Add series: create 'Zip_Code' column from 'Location'\n",
        "* Add series: create 'Latitude', 'Longitude' columns from 'Location'\n",
        "\n",
        "8: Create new dataframe --> Save this dataframe as a csv in gDrive"
      ]
    },
    {
      "metadata": {
        "id": "jx2n7NodHsE0",
        "colab_type": "text"
      },
      "cell_type": "markdown",
      "source": [
        "# Package Imports\n"
      ]
    },
    {
      "metadata": {
        "id": "l1Cu9yyIInFv",
        "colab_type": "code",
        "colab": {}
      },
      "cell_type": "code",
      "source": [
        "!pip install -U -q PyDrive\n",
        "from pydrive.auth import GoogleAuth\n",
        "from pydrive.drive import GoogleDrive\n",
        "from google.colab import auth\n",
        "from oauth2client.client import GoogleCredentials\n",
        "\n",
        "#  Data dependencies\n",
        "import pandas as pd\n",
        "import numpy as np\n",
        "import matplotlib.pyplot as plt\n",
        "plt.rcParams['figure.figsize'] = [16, 10]\n",
        "import seaborn as sns\n",
        "import xgboost\n",
        "from sklearn.model_selection import train_test_split\n",
        "#import xgboost as xgb\n",
        "\n",
        "%matplotlib inline\n",
        "plt.rcParams['axes.unicode_minus'] = False"
      ],
      "execution_count": 0,
      "outputs": []
    },
    {
      "metadata": {
        "id": "tF4_2l8LIu1g",
        "colab_type": "text"
      },
      "cell_type": "markdown",
      "source": [
        "#  Get Data from GDrive"
      ]
    },
    {
      "metadata": {
        "id": "STEPIV7WIxgX",
        "colab_type": "code",
        "colab": {}
      },
      "cell_type": "code",
      "source": [
        "#  Authenticate Google Account for GDrive access (raw data is saved in GDrive)\n",
        "auth.authenticate_user()\n",
        "gauth = GoogleAuth()\n",
        "gauth.credentials = GoogleCredentials.get_application_default()\n",
        "drive = GoogleDrive(gauth)"
      ],
      "execution_count": 0,
      "outputs": []
    },
    {
      "metadata": {
        "id": "3I1zBv4tIyyi",
        "colab_type": "code",
        "colab": {}
      },
      "cell_type": "code",
      "source": [
        "#  Raw data file gdrive location:  1YnHtW1HVeAaRM2jx1cwWn_Dl5b_NB57k\n",
        "\n",
        "all_data_downloaded = drive.CreateFile({'id': '1YnHtW1HVeAaRM2jx1cwWn_Dl5b_NB57k'})\n",
        "all_data_downloaded.GetContentFile('allData.csv')\n",
        "\n",
        "df_allData = pd.read_csv('allData.csv', dtype={'Ticket number': str, 'VIN': str})\n"
      ],
      "execution_count": 0,
      "outputs": []
    },
    {
      "metadata": {
        "id": "DSkuw2wYI7Pj",
        "colab_type": "text"
      },
      "cell_type": "markdown",
      "source": [
        "#  Data Assessment"
      ]
    },
    {
      "metadata": {
        "id": "eOi-s1K0J0w6",
        "colab_type": "code",
        "colab": {
          "base_uri": "https://localhost:8080/",
          "height": 343
        },
        "outputId": "8c059979-557a-4742-d722-6634acf5c9eb"
      },
      "cell_type": "code",
      "source": [
        "df_allData.head(5)"
      ],
      "execution_count": 42,
      "outputs": [
        {
          "output_type": "execute_result",
          "data": {
            "text/html": [
              "<div>\n",
              "<style scoped>\n",
              "    .dataframe tbody tr th:only-of-type {\n",
              "        vertical-align: middle;\n",
              "    }\n",
              "\n",
              "    .dataframe tbody tr th {\n",
              "        vertical-align: top;\n",
              "    }\n",
              "\n",
              "    .dataframe thead th {\n",
              "        text-align: right;\n",
              "    }\n",
              "</style>\n",
              "<table border=\"1\" class=\"dataframe\">\n",
              "  <thead>\n",
              "    <tr style=\"text-align: right;\">\n",
              "      <th></th>\n",
              "      <th>Ticket number</th>\n",
              "      <th>Issue Date</th>\n",
              "      <th>Issue time</th>\n",
              "      <th>Meter Id</th>\n",
              "      <th>Marked Time</th>\n",
              "      <th>RP State Plate</th>\n",
              "      <th>Plate Expiry Date</th>\n",
              "      <th>VIN</th>\n",
              "      <th>Make</th>\n",
              "      <th>Body Style</th>\n",
              "      <th>Color</th>\n",
              "      <th>Location</th>\n",
              "      <th>Route</th>\n",
              "      <th>Agency</th>\n",
              "      <th>Violation code</th>\n",
              "      <th>Violation Description</th>\n",
              "      <th>Fine amount</th>\n",
              "      <th>Latitude</th>\n",
              "      <th>Longitude</th>\n",
              "    </tr>\n",
              "  </thead>\n",
              "  <tbody>\n",
              "    <tr>\n",
              "      <th>0</th>\n",
              "      <td>1103341116</td>\n",
              "      <td>2015-12-21T00:00:00</td>\n",
              "      <td>1251.0</td>\n",
              "      <td>NaN</td>\n",
              "      <td>NaN</td>\n",
              "      <td>CA</td>\n",
              "      <td>200304.0</td>\n",
              "      <td>NaN</td>\n",
              "      <td>HOND</td>\n",
              "      <td>PA</td>\n",
              "      <td>GY</td>\n",
              "      <td>13147 WELBY WAY</td>\n",
              "      <td>01521</td>\n",
              "      <td>1.0</td>\n",
              "      <td>4000A1</td>\n",
              "      <td>NO EVIDENCE OF REG</td>\n",
              "      <td>50.0</td>\n",
              "      <td>99999.0</td>\n",
              "      <td>99999.0</td>\n",
              "    </tr>\n",
              "    <tr>\n",
              "      <th>1</th>\n",
              "      <td>1103700150</td>\n",
              "      <td>2015-12-21T00:00:00</td>\n",
              "      <td>1435.0</td>\n",
              "      <td>NaN</td>\n",
              "      <td>NaN</td>\n",
              "      <td>CA</td>\n",
              "      <td>201512.0</td>\n",
              "      <td>NaN</td>\n",
              "      <td>GMC</td>\n",
              "      <td>VN</td>\n",
              "      <td>WH</td>\n",
              "      <td>525 S MAIN ST</td>\n",
              "      <td>1C51</td>\n",
              "      <td>1.0</td>\n",
              "      <td>4000A1</td>\n",
              "      <td>NO EVIDENCE OF REG</td>\n",
              "      <td>50.0</td>\n",
              "      <td>99999.0</td>\n",
              "      <td>99999.0</td>\n",
              "    </tr>\n",
              "    <tr>\n",
              "      <th>2</th>\n",
              "      <td>1104803000</td>\n",
              "      <td>2015-12-21T00:00:00</td>\n",
              "      <td>2055.0</td>\n",
              "      <td>NaN</td>\n",
              "      <td>NaN</td>\n",
              "      <td>CA</td>\n",
              "      <td>201503.0</td>\n",
              "      <td>NaN</td>\n",
              "      <td>NISS</td>\n",
              "      <td>PA</td>\n",
              "      <td>BK</td>\n",
              "      <td>200 WORLD WAY</td>\n",
              "      <td>2R2</td>\n",
              "      <td>2.0</td>\n",
              "      <td>8939</td>\n",
              "      <td>WHITE CURB</td>\n",
              "      <td>58.0</td>\n",
              "      <td>6439997.9</td>\n",
              "      <td>1802686.4</td>\n",
              "    </tr>\n",
              "    <tr>\n",
              "      <th>3</th>\n",
              "      <td>1104820732</td>\n",
              "      <td>2015-12-26T00:00:00</td>\n",
              "      <td>1515.0</td>\n",
              "      <td>NaN</td>\n",
              "      <td>NaN</td>\n",
              "      <td>CA</td>\n",
              "      <td>NaN</td>\n",
              "      <td>NaN</td>\n",
              "      <td>ACUR</td>\n",
              "      <td>PA</td>\n",
              "      <td>WH</td>\n",
              "      <td>100 WORLD WAY</td>\n",
              "      <td>2F11</td>\n",
              "      <td>2.0</td>\n",
              "      <td>000</td>\n",
              "      <td>17104h</td>\n",
              "      <td>NaN</td>\n",
              "      <td>6440041.1</td>\n",
              "      <td>1802686.2</td>\n",
              "    </tr>\n",
              "    <tr>\n",
              "      <th>4</th>\n",
              "      <td>1105461453</td>\n",
              "      <td>2015-09-15T00:00:00</td>\n",
              "      <td>115.0</td>\n",
              "      <td>NaN</td>\n",
              "      <td>NaN</td>\n",
              "      <td>CA</td>\n",
              "      <td>200316.0</td>\n",
              "      <td>NaN</td>\n",
              "      <td>CHEV</td>\n",
              "      <td>PA</td>\n",
              "      <td>BK</td>\n",
              "      <td>GEORGIA ST/OLYMPIC</td>\n",
              "      <td>1FB70</td>\n",
              "      <td>1.0</td>\n",
              "      <td>8069A</td>\n",
              "      <td>NO STOPPING/STANDING</td>\n",
              "      <td>93.0</td>\n",
              "      <td>99999.0</td>\n",
              "      <td>99999.0</td>\n",
              "    </tr>\n",
              "  </tbody>\n",
              "</table>\n",
              "</div>"
            ],
            "text/plain": [
              "  Ticket number           Issue Date  Issue time Meter Id  Marked Time  \\\n",
              "0    1103341116  2015-12-21T00:00:00      1251.0      NaN          NaN   \n",
              "1    1103700150  2015-12-21T00:00:00      1435.0      NaN          NaN   \n",
              "2    1104803000  2015-12-21T00:00:00      2055.0      NaN          NaN   \n",
              "3    1104820732  2015-12-26T00:00:00      1515.0      NaN          NaN   \n",
              "4    1105461453  2015-09-15T00:00:00       115.0      NaN          NaN   \n",
              "\n",
              "  RP State Plate  Plate Expiry Date  VIN  Make Body Style Color  \\\n",
              "0             CA           200304.0  NaN  HOND         PA    GY   \n",
              "1             CA           201512.0  NaN   GMC         VN    WH   \n",
              "2             CA           201503.0  NaN  NISS         PA    BK   \n",
              "3             CA                NaN  NaN  ACUR         PA    WH   \n",
              "4             CA           200316.0  NaN  CHEV         PA    BK   \n",
              "\n",
              "             Location  Route  Agency Violation code Violation Description  \\\n",
              "0     13147 WELBY WAY  01521     1.0         4000A1    NO EVIDENCE OF REG   \n",
              "1       525 S MAIN ST   1C51     1.0         4000A1    NO EVIDENCE OF REG   \n",
              "2       200 WORLD WAY    2R2     2.0           8939            WHITE CURB   \n",
              "3       100 WORLD WAY   2F11     2.0            000                17104h   \n",
              "4  GEORGIA ST/OLYMPIC  1FB70     1.0          8069A  NO STOPPING/STANDING   \n",
              "\n",
              "   Fine amount   Latitude  Longitude  \n",
              "0         50.0    99999.0    99999.0  \n",
              "1         50.0    99999.0    99999.0  \n",
              "2         58.0  6439997.9  1802686.4  \n",
              "3          NaN  6440041.1  1802686.2  \n",
              "4         93.0    99999.0    99999.0  "
            ]
          },
          "metadata": {
            "tags": []
          },
          "execution_count": 42
        }
      ]
    },
    {
      "metadata": {
        "id": "ZOYkbHcpJ3Qp",
        "colab_type": "code",
        "colab": {
          "base_uri": "https://localhost:8080/",
          "height": 479
        },
        "outputId": "5bfcf703-233f-4da7-d56d-44f54e3de3fa"
      },
      "cell_type": "code",
      "source": [
        "df_allData.tail(5)"
      ],
      "execution_count": 43,
      "outputs": [
        {
          "output_type": "execute_result",
          "data": {
            "text/html": [
              "<div>\n",
              "<style scoped>\n",
              "    .dataframe tbody tr th:only-of-type {\n",
              "        vertical-align: middle;\n",
              "    }\n",
              "\n",
              "    .dataframe tbody tr th {\n",
              "        vertical-align: top;\n",
              "    }\n",
              "\n",
              "    .dataframe thead th {\n",
              "        text-align: right;\n",
              "    }\n",
              "</style>\n",
              "<table border=\"1\" class=\"dataframe\">\n",
              "  <thead>\n",
              "    <tr style=\"text-align: right;\">\n",
              "      <th></th>\n",
              "      <th>Ticket number</th>\n",
              "      <th>Issue Date</th>\n",
              "      <th>Issue time</th>\n",
              "      <th>Meter Id</th>\n",
              "      <th>Marked Time</th>\n",
              "      <th>RP State Plate</th>\n",
              "      <th>Plate Expiry Date</th>\n",
              "      <th>VIN</th>\n",
              "      <th>Make</th>\n",
              "      <th>Body Style</th>\n",
              "      <th>Color</th>\n",
              "      <th>Location</th>\n",
              "      <th>Route</th>\n",
              "      <th>Agency</th>\n",
              "      <th>Violation code</th>\n",
              "      <th>Violation Description</th>\n",
              "      <th>Fine amount</th>\n",
              "      <th>Latitude</th>\n",
              "      <th>Longitude</th>\n",
              "    </tr>\n",
              "  </thead>\n",
              "  <tbody>\n",
              "    <tr>\n",
              "      <th>8490845</th>\n",
              "      <td>4345072852</td>\n",
              "      <td>2018-11-23T00:00:00</td>\n",
              "      <td>1030.0</td>\n",
              "      <td>7</td>\n",
              "      <td>NaN</td>\n",
              "      <td>CA</td>\n",
              "      <td>NaN</td>\n",
              "      <td>NaN</td>\n",
              "      <td>MERZ</td>\n",
              "      <td>PA</td>\n",
              "      <td>WT</td>\n",
              "      <td>6283 COMMODORE SLOAT DR</td>\n",
              "      <td>00315</td>\n",
              "      <td>51.0</td>\n",
              "      <td>80.58L</td>\n",
              "      <td>PREFERENTIAL PARKING</td>\n",
              "      <td>68.0</td>\n",
              "      <td>6.450392e+06</td>\n",
              "      <td>1.844310e+06</td>\n",
              "    </tr>\n",
              "    <tr>\n",
              "      <th>8490846</th>\n",
              "      <td>4345072863</td>\n",
              "      <td>2018-11-23T00:00:00</td>\n",
              "      <td>1039.0</td>\n",
              "      <td>131</td>\n",
              "      <td>NaN</td>\n",
              "      <td>CA</td>\n",
              "      <td>201909.0</td>\n",
              "      <td>NaN</td>\n",
              "      <td>HOND</td>\n",
              "      <td>PA</td>\n",
              "      <td>BK</td>\n",
              "      <td>1942 CRESCENT HEIGHTS BLVD</td>\n",
              "      <td>00315</td>\n",
              "      <td>51.0</td>\n",
              "      <td>80.58L</td>\n",
              "      <td>PREFERENTIAL PARKING</td>\n",
              "      <td>68.0</td>\n",
              "      <td>6.447931e+06</td>\n",
              "      <td>1.837655e+06</td>\n",
              "    </tr>\n",
              "    <tr>\n",
              "      <th>8490847</th>\n",
              "      <td>4345072874</td>\n",
              "      <td>2018-11-23T00:00:00</td>\n",
              "      <td>1041.0</td>\n",
              "      <td>131</td>\n",
              "      <td>NaN</td>\n",
              "      <td>IN</td>\n",
              "      <td>201905.0</td>\n",
              "      <td>NaN</td>\n",
              "      <td>FORD</td>\n",
              "      <td>PA</td>\n",
              "      <td>GY</td>\n",
              "      <td>1942 CRESCENT HEIGHTS BLVD</td>\n",
              "      <td>00315</td>\n",
              "      <td>51.0</td>\n",
              "      <td>80.58L</td>\n",
              "      <td>PREFERENTIAL PARKING</td>\n",
              "      <td>68.0</td>\n",
              "      <td>6.447931e+06</td>\n",
              "      <td>1.837655e+06</td>\n",
              "    </tr>\n",
              "    <tr>\n",
              "      <th>8490848</th>\n",
              "      <td>4345072885</td>\n",
              "      <td>2018-11-23T00:00:00</td>\n",
              "      <td>1218.0</td>\n",
              "      <td>NaN</td>\n",
              "      <td>NaN</td>\n",
              "      <td>CA</td>\n",
              "      <td>201901.0</td>\n",
              "      <td>NaN</td>\n",
              "      <td>CHEV</td>\n",
              "      <td>TK</td>\n",
              "      <td>BK</td>\n",
              "      <td>1711 CRESCENT HEIGHTS BLVD</td>\n",
              "      <td>00315</td>\n",
              "      <td>51.0</td>\n",
              "      <td>80.69.2</td>\n",
              "      <td>COMM VEH OVER TIME LIMIT</td>\n",
              "      <td>103.0</td>\n",
              "      <td>6.448424e+06</td>\n",
              "      <td>1.839476e+06</td>\n",
              "    </tr>\n",
              "    <tr>\n",
              "      <th>8490849</th>\n",
              "      <td>4345072896</td>\n",
              "      <td>2018-11-23T00:00:00</td>\n",
              "      <td>1411.0</td>\n",
              "      <td>NaN</td>\n",
              "      <td>1000.0</td>\n",
              "      <td>CA</td>\n",
              "      <td>201911.0</td>\n",
              "      <td>NaN</td>\n",
              "      <td>HOND</td>\n",
              "      <td>PA</td>\n",
              "      <td>GN</td>\n",
              "      <td>11101 EXPOSITION BLVD</td>\n",
              "      <td>00315</td>\n",
              "      <td>51.0</td>\n",
              "      <td>80.69C</td>\n",
              "      <td>PARKED OVER TIME LIMIT</td>\n",
              "      <td>58.0</td>\n",
              "      <td>6.430737e+06</td>\n",
              "      <td>1.835574e+06</td>\n",
              "    </tr>\n",
              "  </tbody>\n",
              "</table>\n",
              "</div>"
            ],
            "text/plain": [
              "        Ticket number           Issue Date  Issue time Meter Id  Marked Time  \\\n",
              "8490845    4345072852  2018-11-23T00:00:00      1030.0        7          NaN   \n",
              "8490846    4345072863  2018-11-23T00:00:00      1039.0      131          NaN   \n",
              "8490847    4345072874  2018-11-23T00:00:00      1041.0      131          NaN   \n",
              "8490848    4345072885  2018-11-23T00:00:00      1218.0      NaN          NaN   \n",
              "8490849    4345072896  2018-11-23T00:00:00      1411.0      NaN       1000.0   \n",
              "\n",
              "        RP State Plate  Plate Expiry Date  VIN  Make Body Style Color  \\\n",
              "8490845             CA                NaN  NaN  MERZ         PA    WT   \n",
              "8490846             CA           201909.0  NaN  HOND         PA    BK   \n",
              "8490847             IN           201905.0  NaN  FORD         PA    GY   \n",
              "8490848             CA           201901.0  NaN  CHEV         TK    BK   \n",
              "8490849             CA           201911.0  NaN  HOND         PA    GN   \n",
              "\n",
              "                           Location  Route  Agency Violation code  \\\n",
              "8490845     6283 COMMODORE SLOAT DR  00315    51.0         80.58L   \n",
              "8490846  1942 CRESCENT HEIGHTS BLVD  00315    51.0         80.58L   \n",
              "8490847  1942 CRESCENT HEIGHTS BLVD  00315    51.0         80.58L   \n",
              "8490848  1711 CRESCENT HEIGHTS BLVD  00315    51.0        80.69.2   \n",
              "8490849       11101 EXPOSITION BLVD  00315    51.0         80.69C   \n",
              "\n",
              "            Violation Description  Fine amount      Latitude     Longitude  \n",
              "8490845      PREFERENTIAL PARKING         68.0  6.450392e+06  1.844310e+06  \n",
              "8490846      PREFERENTIAL PARKING         68.0  6.447931e+06  1.837655e+06  \n",
              "8490847      PREFERENTIAL PARKING         68.0  6.447931e+06  1.837655e+06  \n",
              "8490848  COMM VEH OVER TIME LIMIT        103.0  6.448424e+06  1.839476e+06  \n",
              "8490849    PARKED OVER TIME LIMIT         58.0  6.430737e+06  1.835574e+06  "
            ]
          },
          "metadata": {
            "tags": []
          },
          "execution_count": 43
        }
      ]
    },
    {
      "metadata": {
        "id": "NEuogVnZJ5Tp",
        "colab_type": "code",
        "colab": {
          "base_uri": "https://localhost:8080/",
          "height": 357
        },
        "outputId": "4000a34d-8ac0-4f41-acc2-661e1f514881"
      },
      "cell_type": "code",
      "source": [
        "df_allData.dtypes"
      ],
      "execution_count": 44,
      "outputs": [
        {
          "output_type": "execute_result",
          "data": {
            "text/plain": [
              "Ticket number             object\n",
              "Issue Date                object\n",
              "Issue time               float64\n",
              "Meter Id                  object\n",
              "Marked Time              float64\n",
              "RP State Plate            object\n",
              "Plate Expiry Date        float64\n",
              "VIN                       object\n",
              "Make                      object\n",
              "Body Style                object\n",
              "Color                     object\n",
              "Location                  object\n",
              "Route                     object\n",
              "Agency                   float64\n",
              "Violation code            object\n",
              "Violation Description     object\n",
              "Fine amount              float64\n",
              "Latitude                 float64\n",
              "Longitude                float64\n",
              "dtype: object"
            ]
          },
          "metadata": {
            "tags": []
          },
          "execution_count": 44
        }
      ]
    },
    {
      "metadata": {
        "id": "J7-lkPMmJ75h",
        "colab_type": "code",
        "colab": {
          "base_uri": "https://localhost:8080/",
          "height": 357
        },
        "outputId": "1824cdf0-7d0b-48db-d443-48b24a4bf542"
      },
      "cell_type": "code",
      "source": [
        "#  Show NaN values\n",
        "df_allData.isnull().sum()"
      ],
      "execution_count": 45,
      "outputs": [
        {
          "output_type": "execute_result",
          "data": {
            "text/plain": [
              "Ticket number                  0\n",
              "Issue Date                   458\n",
              "Issue time                  2433\n",
              "Meter Id                 6272543\n",
              "Marked Time              8205539\n",
              "RP State Plate               765\n",
              "Plate Expiry Date         771669\n",
              "VIN                      8474541\n",
              "Make                        8487\n",
              "Body Style                  8510\n",
              "Color                       3916\n",
              "Location                     765\n",
              "Route                      63569\n",
              "Agency                       467\n",
              "Violation code                 0\n",
              "Violation Description        839\n",
              "Fine amount                 6252\n",
              "Latitude                       3\n",
              "Longitude                      3\n",
              "dtype: int64"
            ]
          },
          "metadata": {
            "tags": []
          },
          "execution_count": 45
        }
      ]
    },
    {
      "metadata": {
        "id": "AINtctwpJ-TQ",
        "colab_type": "code",
        "colab": {
          "base_uri": "https://localhost:8080/",
          "height": 34
        },
        "outputId": "81f7487e-574f-4958-ba44-2ba9a5de4e28"
      },
      "cell_type": "code",
      "source": [
        "#  Issue time:  Look at which rows are missing this information\n",
        "df_allData.shape"
      ],
      "execution_count": 46,
      "outputs": [
        {
          "output_type": "execute_result",
          "data": {
            "text/plain": [
              "(8490850, 19)"
            ]
          },
          "metadata": {
            "tags": []
          },
          "execution_count": 46
        }
      ]
    },
    {
      "metadata": {
        "id": "o3tt7qGWKTZ_",
        "colab_type": "code",
        "colab": {}
      },
      "cell_type": "code",
      "source": [
        ""
      ],
      "execution_count": 0,
      "outputs": []
    },
    {
      "metadata": {
        "id": "0e-Eh-UKKXLt",
        "colab_type": "text"
      },
      "cell_type": "markdown",
      "source": [
        "# Step 1: Remove series with 6 mil+ missing data fields.  \n",
        "\n",
        "The following series will be removed from the dataframe:\n",
        "\n",
        "* Meter Id\n",
        "* Marked Time\n",
        "* Plate Expiry Date\n",
        "* VIN"
      ]
    },
    {
      "metadata": {
        "id": "Y0kxChZ5KtQE",
        "colab_type": "code",
        "colab": {}
      },
      "cell_type": "code",
      "source": [
        "df_cleanData = df_allData.drop(['Meter Id', 'Marked Time', 'Plate Expiry Date', 'VIN'], axis='columns')"
      ],
      "execution_count": 0,
      "outputs": []
    },
    {
      "metadata": {
        "id": "QGUZmvkpP670",
        "colab_type": "code",
        "colab": {
          "base_uri": "https://localhost:8080/",
          "height": 289
        },
        "outputId": "d16477a6-8882-4245-f87a-5a4d43328412"
      },
      "cell_type": "code",
      "source": [
        "df_cleanData.dtypes"
      ],
      "execution_count": 48,
      "outputs": [
        {
          "output_type": "execute_result",
          "data": {
            "text/plain": [
              "Ticket number             object\n",
              "Issue Date                object\n",
              "Issue time               float64\n",
              "RP State Plate            object\n",
              "Make                      object\n",
              "Body Style                object\n",
              "Color                     object\n",
              "Location                  object\n",
              "Route                     object\n",
              "Agency                   float64\n",
              "Violation code            object\n",
              "Violation Description     object\n",
              "Fine amount              float64\n",
              "Latitude                 float64\n",
              "Longitude                float64\n",
              "dtype: object"
            ]
          },
          "metadata": {
            "tags": []
          },
          "execution_count": 48
        }
      ]
    },
    {
      "metadata": {
        "id": "uKHlAcspQcmO",
        "colab_type": "code",
        "colab": {
          "base_uri": "https://localhost:8080/",
          "height": 34
        },
        "outputId": "c3eb2dc9-dba0-408a-ca9e-2791ddfa011c"
      },
      "cell_type": "code",
      "source": [
        "df_cleanData.shape"
      ],
      "execution_count": 49,
      "outputs": [
        {
          "output_type": "execute_result",
          "data": {
            "text/plain": [
              "(8490850, 15)"
            ]
          },
          "metadata": {
            "tags": []
          },
          "execution_count": 49
        }
      ]
    },
    {
      "metadata": {
        "id": "T9biICIWQQiQ",
        "colab_type": "text"
      },
      "cell_type": "markdown",
      "source": [
        "#  Step 2: Keep the following data and remove null values:\n",
        "\n",
        "* Issue Date\n",
        "* Issue time\n",
        "* RP State Plate\n",
        "* Location\n",
        "* Violation Description"
      ]
    },
    {
      "metadata": {
        "id": "kI-lzJ35QjGO",
        "colab_type": "code",
        "colab": {
          "base_uri": "https://localhost:8080/",
          "height": 34
        },
        "outputId": "e64c3cd4-3bf3-4ef9-ffc9-a8bdb856b6a6"
      },
      "cell_type": "code",
      "source": [
        "#  Assess how much impact it would be to remove NULL rows in 'Issue Date', 'Issue time', 'RP State Plate', Location', 'Violation'\n",
        "df_cleanData.dropna(subset=['Issue Date', 'Issue time', 'RP State Plate', 'Location', 'Violation Description'], how='any').shape\n"
      ],
      "execution_count": 50,
      "outputs": [
        {
          "output_type": "execute_result",
          "data": {
            "text/plain": [
              "(8486532, 15)"
            ]
          },
          "metadata": {
            "tags": []
          },
          "execution_count": 50
        }
      ]
    },
    {
      "metadata": {
        "id": "K6rvfjogQqC8",
        "colab_type": "code",
        "colab": {
          "base_uri": "https://localhost:8080/",
          "height": 34
        },
        "outputId": "8164f4e7-0142-4365-c3ea-1d76aa74dd4b"
      },
      "cell_type": "code",
      "source": [
        "df_cleanData.shape"
      ],
      "execution_count": 51,
      "outputs": [
        {
          "output_type": "execute_result",
          "data": {
            "text/plain": [
              "(8490850, 15)"
            ]
          },
          "metadata": {
            "tags": []
          },
          "execution_count": 51
        }
      ]
    },
    {
      "metadata": {
        "id": "5zjKJaxiQxCD",
        "colab_type": "code",
        "colab": {}
      },
      "cell_type": "code",
      "source": [
        "# Conclusion:  Removing the NaN entries in 'Issue Date', 'Issue time', 'RP State Plate', 'Location', 'Violation Description' only \n",
        "# removes 4,318 entries.  Hence,  Remove these NaN rows "
      ],
      "execution_count": 0,
      "outputs": []
    },
    {
      "metadata": {
        "id": "9XZvJVkOQmrl",
        "colab_type": "code",
        "colab": {}
      },
      "cell_type": "code",
      "source": [
        "df_cleanData = df_cleanData.dropna(subset=['Issue Date', 'Issue time', 'RP State Plate', 'Location', 'Violation Description'], how='any')"
      ],
      "execution_count": 0,
      "outputs": []
    },
    {
      "metadata": {
        "id": "MIaadt30TnNa",
        "colab_type": "code",
        "colab": {
          "base_uri": "https://localhost:8080/",
          "height": 34
        },
        "outputId": "fd665461-c0f7-4209-80f7-bacaedf8d756"
      },
      "cell_type": "code",
      "source": [
        "df_cleanData.shape"
      ],
      "execution_count": 54,
      "outputs": [
        {
          "output_type": "execute_result",
          "data": {
            "text/plain": [
              "(8486532, 15)"
            ]
          },
          "metadata": {
            "tags": []
          },
          "execution_count": 54
        }
      ]
    },
    {
      "metadata": {
        "id": "mrBsbPK4TqW4",
        "colab_type": "code",
        "colab": {}
      },
      "cell_type": "code",
      "source": [
        "#  Check that 'Issue Date', 'Issue time', 'RP State Plate', 'Location', 'Violation Description' null rows are dropped"
      ],
      "execution_count": 0,
      "outputs": []
    },
    {
      "metadata": {
        "id": "8zeLscN-P-Qs",
        "colab_type": "code",
        "colab": {
          "base_uri": "https://localhost:8080/",
          "height": 289
        },
        "outputId": "d0d58cff-2b19-414a-acab-7730dd087ce4"
      },
      "cell_type": "code",
      "source": [
        "df_cleanData.isnull().sum()"
      ],
      "execution_count": 56,
      "outputs": [
        {
          "output_type": "execute_result",
          "data": {
            "text/plain": [
              "Ticket number                0\n",
              "Issue Date                   0\n",
              "Issue time                   0\n",
              "RP State Plate               0\n",
              "Make                      7966\n",
              "Body Style                7942\n",
              "Color                     3401\n",
              "Location                     0\n",
              "Route                    62658\n",
              "Agency                       9\n",
              "Violation code               0\n",
              "Violation Description        0\n",
              "Fine amount               5410\n",
              "Latitude                     2\n",
              "Longitude                    2\n",
              "dtype: int64"
            ]
          },
          "metadata": {
            "tags": []
          },
          "execution_count": 56
        }
      ]
    },
    {
      "metadata": {
        "id": "xN2RDzjWT8tm",
        "colab_type": "text"
      },
      "cell_type": "markdown",
      "source": [
        "# 3:  Clean up 'Location' series\n",
        "*  Clean up 'Location' fomat (remove nonalpha numeric characters such as '! ? *')\n"
      ]
    },
    {
      "metadata": {
        "id": "AAkAYcGfUXE_",
        "colab_type": "code",
        "colab": {
          "base_uri": "https://localhost:8080/",
          "height": 1071
        },
        "outputId": "aaaa8b04-ea7a-475f-f43e-5ca3a0d0d00e"
      },
      "cell_type": "code",
      "source": [
        "df_cleanData.Location.value_counts()"
      ],
      "execution_count": 57,
      "outputs": [
        {
          "output_type": "execute_result",
          "data": {
            "text/plain": [
              "1301 ELECTRIC AVE            9021\n",
              "11600 SAN VICENTE BL         6964\n",
              "101 LARCHMONT BL N           5918\n",
              "2377 MIDVALE AVE             5763\n",
              "4301 TUJUNGA AV              5062\n",
              "1600 IRVING TABOR CT         5061\n",
              "5901 98TH ST W               4927\n",
              "1235 FIGUEROA PL             4829\n",
              "12100 VENTURA BL             4776\n",
              "4300 TUJUNGA AV              4704\n",
              "2800 E OBSERVATORY           4689\n",
              "7000 HAWTHORN AVE            4687\n",
              "3101 GLENDALE BL             4360\n",
              "11100 WEDDINGTON ST          4360\n",
              "11601 SAN VICENTE BL         4226\n",
              "100 LARCHMONT BL N           4101\n",
              "11001 MCCORMICK ST           4077\n",
              "12300 VENTURA BL             3748\n",
              "200 LARCHMONT BL N           3709\n",
              "1400 HOPE ST S               3677\n",
              "12101 VENTURA BL             3676\n",
              "11900 SAN VICENTE BL         3650\n",
              "11700 SAN VICENTE BL         3633\n",
              "2110 CORINTH AVE             3629\n",
              "6041 CADILLAC AVE            3476\n",
              "1152 LEMOYNE ST              3317\n",
              "2200 CORINTH AV              3151\n",
              "1665 SYCAMORE AVE N          3143\n",
              "10800 WEYBURN AV             3047\n",
              "1600 SCHRADER BL             3023\n",
              "                             ... \n",
              "4321 SAN PEDRO PL               1\n",
              "8554 3RD ST W                   1\n",
              "20TH/MCGARRY                    1\n",
              "8129 REDLANDS ST                1\n",
              "2525 W COUNCIL ST               1\n",
              "224 AVENUE 51                   1\n",
              "3005 1ST ST E                   1\n",
              "7002 S ESTRELLA AVE             1\n",
              "6316 YORK BLVD                  1\n",
              "479 SYCAMORE AVE S              1\n",
              "940 OLYMPIC BLVD                1\n",
              "2803 SICHEL ST N                1\n",
              "1908 I ST WILMINGTON            1\n",
              "639 S HILL ST                   1\n",
              "6080 CASHIO ST                  1\n",
              "3201 W 5TH ST                   1\n",
              "1501 BLK NORMANDIE AVE S        1\n",
              "8711 REMMET AVE                 1\n",
              "1498 CAMPUS ROAD                1\n",
              "4024 R/O NICOLET AVENUE         1\n",
              "2328 PARNELL AVE                1\n",
              "5500 SOUTH BUDLONG AVENUE       1\n",
              "1278 KINGLSEY DR N              1\n",
              "15019 PADDOCK ST                1\n",
              "1331 MENLO AVENUE               1\n",
              "1815 MORTON AVENUE              1\n",
              "14400 HALLDALE AVE              1\n",
              "3504 SUNSET BL                  1\n",
              "1421 BLAKE AVE                  1\n",
              "2723 7TH ST W                   1\n",
              "Name: Location, Length: 1484323, dtype: int64"
            ]
          },
          "metadata": {
            "tags": []
          },
          "execution_count": 57
        }
      ]
    },
    {
      "metadata": {
        "id": "eAWMlgxjUfhI",
        "colab_type": "code",
        "colab": {
          "base_uri": "https://localhost:8080/",
          "height": 1071
        },
        "outputId": "160b35d0-15d1-403e-ddf2-c3ba27e31e7d"
      },
      "cell_type": "code",
      "source": [
        "#  Figure out how many street names start with alpha character (instead of numbers)\n",
        "df_allData.Location.sort_values()"
      ],
      "execution_count": 58,
      "outputs": [
        {
          "output_type": "execute_result",
          "data": {
            "text/plain": [
              "3490240            ! $ $ HALSEY ST\n",
              "7543384            ! % CULVER BLVD\n",
              "3614653          !! * BERENDO ST N\n",
              "612679          !000 VAN BUREN AVE\n",
              "3450914               !001 3RD AVE\n",
              "3450913               !001 3RD AVE\n",
              "6887925            !015 GAYLEY AVE\n",
              "6328523        !027 MANCHESTER AVE\n",
              "6328526        !027 MANCHESTER AVE\n",
              "6328524        !027 MANCHESTER AVE\n",
              "6328525        !027 MANCHESTER AVE\n",
              "5116214        !027 MANCHESTER AVE\n",
              "5116215        !027 MANCHESTER AVE\n",
              "5456256        !027 MANCHESTER AVE\n",
              "6835673       !0341 LOU-DILLON AVE\n",
              "4670182        !036 HYPERION AVE N\n",
              "5514490       !0400 LOU-DILLON AVE\n",
              "6625519           !042 KINGSLEY DR\n",
              "1401363           !0500 ASHTON AVE\n",
              "491343          !0801 MISSOURI AVE\n",
              "6252516           !0818 JUNIPER ST\n",
              "2602918             !0850 ACAMA ST\n",
              "2349472         !09 WESTLAKE AVE N\n",
              "1713092         !0900 MISSOURI AVE\n",
              "6319629    !0901 MASSACHUSETTS AVE\n",
              "1495038          !0924 WEYBURN AVE\n",
              "1993409          !0937 WEYBURN AVE\n",
              "1809976         !0965 FRUITLAND DR\n",
              "1809977         !0965 FRUITLAND DR\n",
              "3970020            !0965 SPRING ST\n",
              "                    ...           \n",
              "8098117                        NaN\n",
              "8101308                        NaN\n",
              "8101878                        NaN\n",
              "8101890                        NaN\n",
              "8102183                        NaN\n",
              "8126776                        NaN\n",
              "8157825                        NaN\n",
              "8166175                        NaN\n",
              "8166307                        NaN\n",
              "8168398                        NaN\n",
              "8198522                        NaN\n",
              "8198541                        NaN\n",
              "8219773                        NaN\n",
              "8226995                        NaN\n",
              "8234101                        NaN\n",
              "8242590                        NaN\n",
              "8242729                        NaN\n",
              "8275668                        NaN\n",
              "8289676                        NaN\n",
              "8360015                        NaN\n",
              "8389287                        NaN\n",
              "8396360                        NaN\n",
              "8411633                        NaN\n",
              "8429422                        NaN\n",
              "8442264                        NaN\n",
              "8449395                        NaN\n",
              "8449461                        NaN\n",
              "8456588                        NaN\n",
              "8456640                        NaN\n",
              "8456643                        NaN\n",
              "Name: Location, Length: 8490850, dtype: object"
            ]
          },
          "metadata": {
            "tags": []
          },
          "execution_count": 58
        }
      ]
    },
    {
      "metadata": {
        "id": "6Tg_Dk3WUsns",
        "colab_type": "code",
        "colab": {}
      },
      "cell_type": "code",
      "source": [
        "#  Observation:  There are 'Location' rows with nonalphanumeric characters (!, $ $ %)\n",
        "#  Solution:  Remove these nonalphanumeric characters"
      ],
      "execution_count": 0,
      "outputs": []
    },
    {
      "metadata": {
        "id": "2uRXUozoUS9p",
        "colab_type": "code",
        "colab": {
          "base_uri": "https://localhost:8080/",
          "height": 343
        },
        "outputId": "b5995f18-adec-4de4-bc83-0588b2bf4ef4"
      },
      "cell_type": "code",
      "source": [
        "df_cleanData.head()"
      ],
      "execution_count": 60,
      "outputs": [
        {
          "output_type": "execute_result",
          "data": {
            "text/html": [
              "<div>\n",
              "<style scoped>\n",
              "    .dataframe tbody tr th:only-of-type {\n",
              "        vertical-align: middle;\n",
              "    }\n",
              "\n",
              "    .dataframe tbody tr th {\n",
              "        vertical-align: top;\n",
              "    }\n",
              "\n",
              "    .dataframe thead th {\n",
              "        text-align: right;\n",
              "    }\n",
              "</style>\n",
              "<table border=\"1\" class=\"dataframe\">\n",
              "  <thead>\n",
              "    <tr style=\"text-align: right;\">\n",
              "      <th></th>\n",
              "      <th>Ticket number</th>\n",
              "      <th>Issue Date</th>\n",
              "      <th>Issue time</th>\n",
              "      <th>RP State Plate</th>\n",
              "      <th>Make</th>\n",
              "      <th>Body Style</th>\n",
              "      <th>Color</th>\n",
              "      <th>Location</th>\n",
              "      <th>Route</th>\n",
              "      <th>Agency</th>\n",
              "      <th>Violation code</th>\n",
              "      <th>Violation Description</th>\n",
              "      <th>Fine amount</th>\n",
              "      <th>Latitude</th>\n",
              "      <th>Longitude</th>\n",
              "    </tr>\n",
              "  </thead>\n",
              "  <tbody>\n",
              "    <tr>\n",
              "      <th>0</th>\n",
              "      <td>1103341116</td>\n",
              "      <td>2015-12-21T00:00:00</td>\n",
              "      <td>1251.0</td>\n",
              "      <td>CA</td>\n",
              "      <td>HOND</td>\n",
              "      <td>PA</td>\n",
              "      <td>GY</td>\n",
              "      <td>13147 WELBY WAY</td>\n",
              "      <td>01521</td>\n",
              "      <td>1.0</td>\n",
              "      <td>4000A1</td>\n",
              "      <td>NO EVIDENCE OF REG</td>\n",
              "      <td>50.0</td>\n",
              "      <td>99999.0</td>\n",
              "      <td>99999.0</td>\n",
              "    </tr>\n",
              "    <tr>\n",
              "      <th>1</th>\n",
              "      <td>1103700150</td>\n",
              "      <td>2015-12-21T00:00:00</td>\n",
              "      <td>1435.0</td>\n",
              "      <td>CA</td>\n",
              "      <td>GMC</td>\n",
              "      <td>VN</td>\n",
              "      <td>WH</td>\n",
              "      <td>525 S MAIN ST</td>\n",
              "      <td>1C51</td>\n",
              "      <td>1.0</td>\n",
              "      <td>4000A1</td>\n",
              "      <td>NO EVIDENCE OF REG</td>\n",
              "      <td>50.0</td>\n",
              "      <td>99999.0</td>\n",
              "      <td>99999.0</td>\n",
              "    </tr>\n",
              "    <tr>\n",
              "      <th>2</th>\n",
              "      <td>1104803000</td>\n",
              "      <td>2015-12-21T00:00:00</td>\n",
              "      <td>2055.0</td>\n",
              "      <td>CA</td>\n",
              "      <td>NISS</td>\n",
              "      <td>PA</td>\n",
              "      <td>BK</td>\n",
              "      <td>200 WORLD WAY</td>\n",
              "      <td>2R2</td>\n",
              "      <td>2.0</td>\n",
              "      <td>8939</td>\n",
              "      <td>WHITE CURB</td>\n",
              "      <td>58.0</td>\n",
              "      <td>6439997.9</td>\n",
              "      <td>1802686.4</td>\n",
              "    </tr>\n",
              "    <tr>\n",
              "      <th>3</th>\n",
              "      <td>1104820732</td>\n",
              "      <td>2015-12-26T00:00:00</td>\n",
              "      <td>1515.0</td>\n",
              "      <td>CA</td>\n",
              "      <td>ACUR</td>\n",
              "      <td>PA</td>\n",
              "      <td>WH</td>\n",
              "      <td>100 WORLD WAY</td>\n",
              "      <td>2F11</td>\n",
              "      <td>2.0</td>\n",
              "      <td>000</td>\n",
              "      <td>17104h</td>\n",
              "      <td>NaN</td>\n",
              "      <td>6440041.1</td>\n",
              "      <td>1802686.2</td>\n",
              "    </tr>\n",
              "    <tr>\n",
              "      <th>4</th>\n",
              "      <td>1105461453</td>\n",
              "      <td>2015-09-15T00:00:00</td>\n",
              "      <td>115.0</td>\n",
              "      <td>CA</td>\n",
              "      <td>CHEV</td>\n",
              "      <td>PA</td>\n",
              "      <td>BK</td>\n",
              "      <td>GEORGIA ST/OLYMPIC</td>\n",
              "      <td>1FB70</td>\n",
              "      <td>1.0</td>\n",
              "      <td>8069A</td>\n",
              "      <td>NO STOPPING/STANDING</td>\n",
              "      <td>93.0</td>\n",
              "      <td>99999.0</td>\n",
              "      <td>99999.0</td>\n",
              "    </tr>\n",
              "  </tbody>\n",
              "</table>\n",
              "</div>"
            ],
            "text/plain": [
              "  Ticket number           Issue Date  Issue time RP State Plate  Make  \\\n",
              "0    1103341116  2015-12-21T00:00:00      1251.0             CA  HOND   \n",
              "1    1103700150  2015-12-21T00:00:00      1435.0             CA   GMC   \n",
              "2    1104803000  2015-12-21T00:00:00      2055.0             CA  NISS   \n",
              "3    1104820732  2015-12-26T00:00:00      1515.0             CA  ACUR   \n",
              "4    1105461453  2015-09-15T00:00:00       115.0             CA  CHEV   \n",
              "\n",
              "  Body Style Color            Location  Route  Agency Violation code  \\\n",
              "0         PA    GY     13147 WELBY WAY  01521     1.0         4000A1   \n",
              "1         VN    WH       525 S MAIN ST   1C51     1.0         4000A1   \n",
              "2         PA    BK       200 WORLD WAY    2R2     2.0           8939   \n",
              "3         PA    WH       100 WORLD WAY   2F11     2.0            000   \n",
              "4         PA    BK  GEORGIA ST/OLYMPIC  1FB70     1.0          8069A   \n",
              "\n",
              "  Violation Description  Fine amount   Latitude  Longitude  \n",
              "0    NO EVIDENCE OF REG         50.0    99999.0    99999.0  \n",
              "1    NO EVIDENCE OF REG         50.0    99999.0    99999.0  \n",
              "2            WHITE CURB         58.0  6439997.9  1802686.4  \n",
              "3                17104h          NaN  6440041.1  1802686.2  \n",
              "4  NO STOPPING/STANDING         93.0    99999.0    99999.0  "
            ]
          },
          "metadata": {
            "tags": []
          },
          "execution_count": 60
        }
      ]
    },
    {
      "metadata": {
        "id": "j_HaDpY-ViuC",
        "colab_type": "code",
        "colab": {}
      },
      "cell_type": "code",
      "source": [
        "df_cleanData = df_cleanData.Location.str.replace('\\W', ' ')"
      ],
      "execution_count": 0,
      "outputs": []
    },
    {
      "metadata": {
        "id": "OOj3VhlZVfc8",
        "colab_type": "code",
        "colab": {
          "base_uri": "https://localhost:8080/",
          "height": 1071
        },
        "outputId": "d8533b6b-086f-42ca-d451-d32338a33cb8"
      },
      "cell_type": "code",
      "source": [
        "#  Check that nonalphanumeric characters are removed\n",
        "df_allData.Location.sort_values()"
      ],
      "execution_count": 62,
      "outputs": [
        {
          "output_type": "execute_result",
          "data": {
            "text/plain": [
              "3490240            ! $ $ HALSEY ST\n",
              "7543384            ! % CULVER BLVD\n",
              "3614653          !! * BERENDO ST N\n",
              "612679          !000 VAN BUREN AVE\n",
              "3450914               !001 3RD AVE\n",
              "3450913               !001 3RD AVE\n",
              "6887925            !015 GAYLEY AVE\n",
              "6328523        !027 MANCHESTER AVE\n",
              "6328526        !027 MANCHESTER AVE\n",
              "6328524        !027 MANCHESTER AVE\n",
              "6328525        !027 MANCHESTER AVE\n",
              "5116214        !027 MANCHESTER AVE\n",
              "5116215        !027 MANCHESTER AVE\n",
              "5456256        !027 MANCHESTER AVE\n",
              "6835673       !0341 LOU-DILLON AVE\n",
              "4670182        !036 HYPERION AVE N\n",
              "5514490       !0400 LOU-DILLON AVE\n",
              "6625519           !042 KINGSLEY DR\n",
              "1401363           !0500 ASHTON AVE\n",
              "491343          !0801 MISSOURI AVE\n",
              "6252516           !0818 JUNIPER ST\n",
              "2602918             !0850 ACAMA ST\n",
              "2349472         !09 WESTLAKE AVE N\n",
              "1713092         !0900 MISSOURI AVE\n",
              "6319629    !0901 MASSACHUSETTS AVE\n",
              "1495038          !0924 WEYBURN AVE\n",
              "1993409          !0937 WEYBURN AVE\n",
              "1809976         !0965 FRUITLAND DR\n",
              "1809977         !0965 FRUITLAND DR\n",
              "3970020            !0965 SPRING ST\n",
              "                    ...           \n",
              "8098117                        NaN\n",
              "8101308                        NaN\n",
              "8101878                        NaN\n",
              "8101890                        NaN\n",
              "8102183                        NaN\n",
              "8126776                        NaN\n",
              "8157825                        NaN\n",
              "8166175                        NaN\n",
              "8166307                        NaN\n",
              "8168398                        NaN\n",
              "8198522                        NaN\n",
              "8198541                        NaN\n",
              "8219773                        NaN\n",
              "8226995                        NaN\n",
              "8234101                        NaN\n",
              "8242590                        NaN\n",
              "8242729                        NaN\n",
              "8275668                        NaN\n",
              "8289676                        NaN\n",
              "8360015                        NaN\n",
              "8389287                        NaN\n",
              "8396360                        NaN\n",
              "8411633                        NaN\n",
              "8429422                        NaN\n",
              "8442264                        NaN\n",
              "8449395                        NaN\n",
              "8449461                        NaN\n",
              "8456588                        NaN\n",
              "8456640                        NaN\n",
              "8456643                        NaN\n",
              "Name: Location, Length: 8490850, dtype: object"
            ]
          },
          "metadata": {
            "tags": []
          },
          "execution_count": 62
        }
      ]
    },
    {
      "metadata": {
        "id": "FexQYjLzVOMa",
        "colab_type": "code",
        "colab": {}
      },
      "cell_type": "code",
      "source": [
        ""
      ],
      "execution_count": 0,
      "outputs": []
    }
  ]
}